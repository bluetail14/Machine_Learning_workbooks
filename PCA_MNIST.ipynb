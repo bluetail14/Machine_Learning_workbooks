{
 "cells": [
  {
   "cell_type": "markdown",
   "metadata": {},
   "source": [
    "# Principal component analysis on MNIST"
   ]
  },
  {
   "cell_type": "markdown",
   "metadata": {},
   "source": [
    "In this notebook, we get an understanding of **principal component analysis (PCA)** using the familiar MNIST data set of handwritten digits."
   ]
  },
  {
   "cell_type": "markdown",
   "metadata": {},
   "source": [
    "## 1. Load MNIST data"
   ]
  },
  {
   "cell_type": "markdown",
   "metadata": {},
   "source": [
    "The next few routines check if the MNIST data is already in the current directory; if not, it is downloaded directly from Yann Le Cun's web site. It is then loaded into memory."
   ]
  },
  {
   "cell_type": "code",
   "execution_count": 1,
   "metadata": {},
   "outputs": [],
   "source": [
    "%matplotlib inline\n",
    "import numpy as np\n",
    "import matplotlib.pyplot as plt\n",
    "from scipy.stats import multivariate_normal\n",
    "import gzip, sys, os\n",
    "\n",
    "if sys.version_info[0] == 2:\n",
    "    from urllib import urlretrieve\n",
    "else:\n",
    "    from urllib.request import urlretrieve"
   ]
  },
  {
   "cell_type": "code",
   "execution_count": 2,
   "metadata": {},
   "outputs": [],
   "source": [
    "def download(filename, source='http://yann.lecun.com/exdb/mnist/'):\n",
    "    print(\"Downloading %s\" % filename)\n",
    "    urlretrieve(source + filename, filename)\n",
    "\n",
    "def load_mnist_images(filename):\n",
    "    if not os.path.exists(filename):\n",
    "        download(filename)\n",
    "    # Read the inputs in Yann LeCun's binary format.\n",
    "    with gzip.open(filename, 'rb') as f:\n",
    "        data = np.frombuffer(f.read(), np.uint8, offset=16)\n",
    "    data = data.reshape(-1,784)\n",
    "    return data / np.float32(256)"
   ]
  },
  {
   "cell_type": "code",
   "execution_count": 3,
   "metadata": {},
   "outputs": [
    {
     "name": "stdout",
     "output_type": "stream",
     "text": [
      "Downloading train-images-idx3-ubyte.gz\n"
     ]
    }
   ],
   "source": [
    "## Load the training set\n",
    "train_data = load_mnist_images('train-images-idx3-ubyte.gz')"
   ]
  },
  {
   "cell_type": "markdown",
   "metadata": {},
   "source": [
    "## 2. Statistics of the data"
   ]
  },
  {
   "cell_type": "markdown",
   "metadata": {},
   "source": [
    "Principal component analysis chooses projection directions based on the **covariance matrix** of the data. This matrix allows us to contrast the effect of picking coordinate directions (i.e. pixels) versus eigenvector directions. In particular:\n",
    "* *The ith **diagonal entry** of the covariance is the variance in the ith coordinate (the ith pixel).*\n",
    "* *The ith **eigenvalue** of the covariance matrix is the variance in the direction of the ith eigenvector.*"
   ]
  },
  {
   "cell_type": "code",
   "execution_count": 4,
   "metadata": {},
   "outputs": [],
   "source": [
    "# Compute covariance matrix\n",
    "Sigma = np.cov(train_data, rowvar=0, bias=1)\n",
    "# Compute coordinate-wise variances, in increasing order\n",
    "coordinate_variances = np.sort(Sigma.diagonal())\n",
    "# Compute variances in eigenvector directions, in increasing order\n",
    "eigenvector_variances = np.sort(np.linalg.eigvalsh(Sigma))"
   ]
  },
  {
   "cell_type": "code",
   "execution_count": 6,
   "metadata": {},
   "outputs": [
    {
     "data": {
      "text/plain": [
       "array([-7.93612407e-16, -5.61220696e-16, -4.39639052e-16, -3.76754036e-16,\n",
       "       -3.34660113e-16, -2.05884255e-16, -7.75611062e-17, -7.35041663e-17,\n",
       "       -6.94101178e-17, -5.79880799e-17, -4.23916490e-17, -3.54888035e-17,\n",
       "       -3.22877687e-17, -1.59088510e-18, -5.94240807e-19, -7.65019240e-20,\n",
       "       -2.49564492e-20, -1.91386525e-20, -1.20831838e-20, -4.66577254e-21,\n",
       "       -8.03479782e-22, -1.49537457e-32, -1.54583611e-33, -5.22196785e-34,\n",
       "       -9.34430552e-36,  0.00000000e+00,  0.00000000e+00,  0.00000000e+00,\n",
       "        0.00000000e+00,  0.00000000e+00,  0.00000000e+00,  0.00000000e+00,\n",
       "        0.00000000e+00,  0.00000000e+00,  0.00000000e+00,  0.00000000e+00,\n",
       "        0.00000000e+00,  0.00000000e+00,  0.00000000e+00,  0.00000000e+00,\n",
       "        0.00000000e+00,  1.86344974e-36,  2.77496344e-35,  6.74605842e-35,\n",
       "        1.74662300e-32,  1.98395744e-32,  5.92368397e-32,  1.69349743e-22,\n",
       "        7.58650104e-22,  3.37065814e-21,  5.54412232e-21,  1.07791426e-20,\n",
       "        1.10354162e-19,  1.49957848e-18,  3.41720496e-18,  7.02500680e-18,\n",
       "        8.59360750e-18,  1.45408039e-17,  1.80911660e-17,  1.90109361e-17,\n",
       "        3.79507389e-17,  4.85393071e-17,  6.05559755e-17,  8.17200684e-17,\n",
       "        8.40782948e-17,  1.61121043e-16,  2.47135167e-16,  3.03735380e-16,\n",
       "        3.40996623e-16,  4.86357042e-16,  5.48723541e-16,  1.00599428e-15,\n",
       "        8.00715595e-10,  1.23575631e-08,  1.32619165e-08,  3.62149039e-08,\n",
       "        3.70481566e-08,  4.53762480e-08,  1.01493091e-07,  1.58006152e-07,\n",
       "        1.93468491e-07,  2.59783729e-07,  2.84178155e-07,  3.60193861e-07,\n",
       "        3.61822563e-07,  4.16314396e-07,  4.52238832e-07,  5.28287957e-07,\n",
       "        5.39189612e-07,  5.83307836e-07,  8.47733813e-07,  8.69975411e-07,\n",
       "        9.27305813e-07,  9.85940915e-07,  1.25684496e-06,  1.51224715e-06,\n",
       "        1.57194494e-06,  1.61525159e-06,  1.69508460e-06,  1.86728366e-06,\n",
       "        1.88568491e-06,  2.05899260e-06,  2.12667961e-06,  2.40306028e-06,\n",
       "        2.43844637e-06,  2.89832697e-06,  3.11732789e-06,  3.35910711e-06,\n",
       "        3.51742500e-06,  3.58291563e-06,  4.27305482e-06,  4.35592159e-06,\n",
       "        4.59521260e-06,  4.94312398e-06,  5.60019118e-06,  6.69899898e-06,\n",
       "        7.07831452e-06,  7.14614673e-06,  7.83235134e-06,  7.89906062e-06,\n",
       "        8.95764552e-06,  9.24598166e-06,  1.02623326e-05,  1.05381144e-05,\n",
       "        1.05954636e-05,  1.12472582e-05,  1.17890596e-05,  1.20291100e-05,\n",
       "        1.23306931e-05,  1.26227273e-05,  1.33687995e-05,  1.34700493e-05,\n",
       "        1.42650007e-05,  1.45649857e-05,  1.55283842e-05,  1.63385048e-05,\n",
       "        1.86583852e-05,  1.89444428e-05,  2.00826735e-05,  2.12642574e-05,\n",
       "        2.19947036e-05,  2.26140233e-05,  2.43854200e-05,  2.46746761e-05,\n",
       "        2.49789234e-05,  2.73208345e-05,  2.76330112e-05,  2.93462995e-05,\n",
       "        2.96558837e-05,  3.04930597e-05,  3.09136459e-05,  3.27159714e-05,\n",
       "        3.27255316e-05,  3.33191030e-05,  3.45130591e-05,  3.48742351e-05,\n",
       "        3.77622845e-05,  3.89720447e-05,  4.06024762e-05,  4.35851269e-05,\n",
       "        4.57949245e-05,  4.70333056e-05,  4.75944373e-05,  4.79062450e-05,\n",
       "        4.88869822e-05,  5.05564452e-05,  5.13316956e-05,  5.41840488e-05,\n",
       "        5.44892755e-05,  5.48223448e-05,  5.64156564e-05,  5.85499154e-05,\n",
       "        6.52270366e-05,  6.72048808e-05,  6.81775680e-05,  6.89604416e-05,\n",
       "        7.26299690e-05,  7.39354066e-05,  7.64336681e-05,  7.86525513e-05,\n",
       "        8.39851482e-05,  8.46667820e-05,  9.17759241e-05,  9.41844396e-05,\n",
       "        9.64908978e-05,  9.68957696e-05,  9.75687521e-05,  9.83056563e-05,\n",
       "        1.06813048e-04,  1.09965939e-04,  1.12299083e-04,  1.12535329e-04,\n",
       "        1.15492998e-04,  1.17431562e-04,  1.18384506e-04,  1.21131256e-04,\n",
       "        1.23549996e-04,  1.33397158e-04,  1.37504824e-04,  1.46676196e-04,\n",
       "        1.52996461e-04,  1.54636499e-04,  1.55409154e-04,  1.57576957e-04,\n",
       "        1.58292428e-04,  1.61240082e-04,  1.63197447e-04,  1.66106802e-04,\n",
       "        1.68063075e-04,  1.69386051e-04,  1.73273026e-04,  1.97791358e-04,\n",
       "        1.98780053e-04,  2.06385401e-04,  2.09337082e-04,  2.09921592e-04,\n",
       "        2.18928456e-04,  2.19628750e-04,  2.38268255e-04,  2.41862364e-04,\n",
       "        2.45666969e-04,  2.51663624e-04,  2.56384081e-04,  2.58048438e-04,\n",
       "        2.61336007e-04,  2.63621572e-04,  2.71119678e-04,  2.75732571e-04,\n",
       "        2.79847053e-04,  2.90602856e-04,  2.96998915e-04,  2.99614180e-04,\n",
       "        3.10085034e-04,  3.21202449e-04,  3.38477057e-04,  3.42029059e-04,\n",
       "        3.48191862e-04,  3.51307003e-04,  3.59978260e-04,  3.64189925e-04,\n",
       "        3.73974660e-04,  3.80280849e-04,  3.85480903e-04,  3.94025598e-04,\n",
       "        3.96410527e-04,  3.99881800e-04,  4.04592678e-04,  4.11563664e-04,\n",
       "        4.16937422e-04,  4.26891329e-04,  4.49496584e-04,  4.60875176e-04,\n",
       "        4.64111049e-04,  4.82452386e-04,  4.84445024e-04,  4.90311373e-04,\n",
       "        5.00898764e-04,  5.24285828e-04,  5.35277671e-04,  5.51305293e-04,\n",
       "        5.52962014e-04,  5.72158856e-04,  5.75589684e-04,  5.88341373e-04,\n",
       "        5.92028758e-04,  5.95270298e-04,  6.13681290e-04,  6.16081072e-04,\n",
       "        6.23192628e-04,  6.27847954e-04,  6.37459956e-04,  6.47717250e-04,\n",
       "        6.56473415e-04,  6.85518748e-04,  6.97508614e-04,  7.15370560e-04,\n",
       "        7.21394403e-04,  7.30414571e-04,  7.41658572e-04,  7.50949246e-04,\n",
       "        7.62647300e-04,  7.72073557e-04,  7.83637199e-04,  7.93447393e-04,\n",
       "        7.95482569e-04,  8.12911586e-04,  8.31997494e-04,  8.42692067e-04,\n",
       "        8.46078107e-04,  8.55770036e-04,  9.10783053e-04,  9.20119404e-04,\n",
       "        9.39418492e-04,  9.47012286e-04,  9.51412869e-04,  9.65164888e-04,\n",
       "        9.91852413e-04,  1.02088942e-03,  1.02663601e-03,  1.03918962e-03,\n",
       "        1.05097306e-03,  1.06600658e-03,  1.09107311e-03,  1.10211692e-03,\n",
       "        1.11404884e-03,  1.12121223e-03,  1.15710286e-03,  1.17001263e-03,\n",
       "        1.17802619e-03,  1.21457671e-03,  1.22160037e-03,  1.24119054e-03,\n",
       "        1.26856128e-03,  1.27196722e-03,  1.27418223e-03,  1.29150336e-03,\n",
       "        1.29886373e-03,  1.31637380e-03,  1.32312713e-03,  1.34826813e-03,\n",
       "        1.40961587e-03,  1.43953910e-03,  1.45994568e-03,  1.46819403e-03,\n",
       "        1.49191213e-03,  1.51011821e-03,  1.52823882e-03,  1.56451188e-03,\n",
       "        1.57758002e-03,  1.59082625e-03,  1.62241484e-03,  1.65525498e-03,\n",
       "        1.67087293e-03,  1.68442881e-03,  1.72631663e-03,  1.74741903e-03,\n",
       "        1.79873957e-03,  1.80747555e-03,  1.82418646e-03,  1.84422824e-03,\n",
       "        1.84971332e-03,  1.87100136e-03,  1.91417552e-03,  1.93949931e-03,\n",
       "        1.95255540e-03,  1.98185226e-03,  1.99535221e-03,  2.00111214e-03,\n",
       "        2.01872862e-03,  2.10756309e-03,  2.13682411e-03,  2.16511828e-03,\n",
       "        2.18592350e-03,  2.20629994e-03,  2.21735783e-03,  2.22904423e-03,\n",
       "        2.24565557e-03,  2.28682362e-03,  2.34938833e-03,  2.38559833e-03,\n",
       "        2.42959547e-03,  2.44100406e-03,  2.46964786e-03,  2.50804310e-03,\n",
       "        2.54773128e-03,  2.56690752e-03,  2.60290169e-03,  2.63562995e-03,\n",
       "        2.66878902e-03,  2.71258602e-03,  2.73069471e-03,  2.74897586e-03,\n",
       "        2.75985246e-03,  2.78990956e-03,  2.84969657e-03,  2.86360234e-03,\n",
       "        2.87210195e-03,  2.90951696e-03,  2.94913558e-03,  2.96752822e-03,\n",
       "        3.00209819e-03,  3.06667816e-03,  3.07239186e-03,  3.10577538e-03,\n",
       "        3.13508384e-03,  3.15552495e-03,  3.20614206e-03,  3.24517719e-03,\n",
       "        3.31950611e-03,  3.33294088e-03,  3.35868447e-03,  3.41309786e-03,\n",
       "        3.46498426e-03,  3.50809838e-03,  3.55412406e-03,  3.57302131e-03,\n",
       "        3.62247911e-03,  3.64375168e-03,  3.70412864e-03,  3.73607239e-03,\n",
       "        3.77009260e-03,  3.80395559e-03,  3.80927072e-03,  3.84868976e-03,\n",
       "        3.86316173e-03,  3.90312336e-03,  3.96560045e-03,  4.00673651e-03,\n",
       "        4.05041733e-03,  4.08368449e-03,  4.11324125e-03,  4.15730007e-03,\n",
       "        4.16464038e-03,  4.23236133e-03,  4.24215556e-03,  4.28511286e-03,\n",
       "        4.31583095e-03,  4.34090344e-03,  4.35842066e-03,  4.42586642e-03,\n",
       "        4.45493625e-03,  4.47678475e-03,  4.51519368e-03,  4.56846606e-03,\n",
       "        4.61729980e-03,  4.66409828e-03,  4.67532045e-03,  4.71218414e-03,\n",
       "        4.74352271e-03,  4.78132373e-03,  4.79129898e-03,  4.83867480e-03,\n",
       "        4.90300444e-03,  4.90695314e-03,  4.94601161e-03,  4.99725731e-03,\n",
       "        5.06561979e-03,  5.10558496e-03,  5.13330252e-03,  5.19858826e-03,\n",
       "        5.21034984e-03,  5.24524042e-03,  5.27563786e-03,  5.33841883e-03,\n",
       "        5.34911104e-03,  5.41033527e-03,  5.49556862e-03,  5.54156183e-03,\n",
       "        5.55599861e-03,  5.59781869e-03,  5.62875342e-03,  5.66680489e-03,\n",
       "        5.70090132e-03,  5.75760801e-03,  5.77706632e-03,  5.78278593e-03,\n",
       "        5.82124964e-03,  5.88042786e-03,  5.97513775e-03,  5.99154290e-03,\n",
       "        6.07359662e-03,  6.09430630e-03,  6.12386647e-03,  6.16635432e-03,\n",
       "        6.22267726e-03,  6.24744165e-03,  6.27596878e-03,  6.33140117e-03,\n",
       "        6.35965936e-03,  6.41482479e-03,  6.46402938e-03,  6.52515427e-03,\n",
       "        6.58423458e-03,  6.60927274e-03,  6.65526549e-03,  6.67084278e-03,\n",
       "        6.70202230e-03,  6.75701249e-03,  6.81072620e-03,  6.83752472e-03,\n",
       "        6.92337161e-03,  6.99004134e-03,  7.03670315e-03,  7.10398098e-03,\n",
       "        7.11340623e-03,  7.15870376e-03,  7.21786969e-03,  7.23175321e-03,\n",
       "        7.34969737e-03,  7.41544654e-03,  7.43221216e-03,  7.46639947e-03,\n",
       "        7.49312271e-03,  7.56733316e-03,  7.64449698e-03,  7.72540306e-03,\n",
       "        7.75445316e-03,  7.82956010e-03,  7.84764674e-03,  7.95374715e-03,\n",
       "        8.00758478e-03,  8.04635231e-03,  8.10327722e-03,  8.19956631e-03,\n",
       "        8.23169038e-03,  8.30917091e-03,  8.36205896e-03,  8.41685396e-03,\n",
       "        8.46912740e-03,  8.50928136e-03,  8.55236809e-03,  8.59024040e-03,\n",
       "        8.70777288e-03,  8.73233212e-03,  8.78902559e-03,  8.85677451e-03,\n",
       "        8.89527532e-03,  8.96585541e-03,  9.03175698e-03,  9.07273046e-03,\n",
       "        9.09649551e-03,  9.20527050e-03,  9.24328133e-03,  9.28863835e-03,\n",
       "        9.40951395e-03,  9.51488918e-03,  9.58109569e-03,  9.60985059e-03,\n",
       "        9.65809498e-03,  9.72241312e-03,  9.75091255e-03,  9.83567551e-03,\n",
       "        9.89139727e-03,  1.00203101e-02,  1.00323805e-02,  1.00891800e-02,\n",
       "        1.01346847e-02,  1.02445025e-02,  1.03388348e-02,  1.04102910e-02,\n",
       "        1.05143052e-02,  1.05315388e-02,  1.06862315e-02,  1.07099140e-02,\n",
       "        1.08269660e-02,  1.09731089e-02,  1.10054105e-02,  1.11352875e-02,\n",
       "        1.12053746e-02,  1.12560700e-02,  1.13341491e-02,  1.13974560e-02,\n",
       "        1.15322045e-02,  1.16065251e-02,  1.16542984e-02,  1.19057780e-02,\n",
       "        1.19321131e-02,  1.20389025e-02,  1.21006780e-02,  1.21670729e-02,\n",
       "        1.23907307e-02,  1.24648295e-02,  1.25785656e-02,  1.26059897e-02,\n",
       "        1.26528078e-02,  1.27622399e-02,  1.28731466e-02,  1.30008808e-02,\n",
       "        1.30556164e-02,  1.31982714e-02,  1.32255876e-02,  1.33262917e-02,\n",
       "        1.34406404e-02,  1.35261274e-02,  1.35728959e-02,  1.37001222e-02,\n",
       "        1.38279903e-02,  1.38694727e-02,  1.40048220e-02,  1.40952164e-02,\n",
       "        1.42542165e-02,  1.44247574e-02,  1.45992606e-02,  1.47507618e-02,\n",
       "        1.48752144e-02,  1.50534513e-02,  1.53108478e-02,  1.53526584e-02,\n",
       "        1.54716640e-02,  1.55219188e-02,  1.57762441e-02,  1.58202700e-02,\n",
       "        1.58654935e-02,  1.60063016e-02,  1.61930892e-02,  1.62666252e-02,\n",
       "        1.65403553e-02,  1.65991714e-02,  1.68068495e-02,  1.68944959e-02,\n",
       "        1.70494928e-02,  1.71775316e-02,  1.72754721e-02,  1.76347108e-02,\n",
       "        1.76635719e-02,  1.78624361e-02,  1.80983815e-02,  1.81680221e-02,\n",
       "        1.84614781e-02,  1.85527271e-02,  1.88264537e-02,  1.90325003e-02,\n",
       "        1.91024660e-02,  1.93255262e-02,  1.95622350e-02,  1.98217027e-02,\n",
       "        1.98676022e-02,  2.01854633e-02,  2.04282515e-02,  2.06159104e-02,\n",
       "        2.08147842e-02,  2.09686652e-02,  2.14297227e-02,  2.17371442e-02,\n",
       "        2.20771253e-02,  2.22323313e-02,  2.23615094e-02,  2.28441487e-02,\n",
       "        2.31598942e-02,  2.34788768e-02,  2.35611396e-02,  2.40274578e-02,\n",
       "        2.42385005e-02,  2.44096231e-02,  2.45012950e-02,  2.47975238e-02,\n",
       "        2.52595873e-02,  2.54003769e-02,  2.56897940e-02,  2.60896258e-02,\n",
       "        2.62133500e-02,  2.63123766e-02,  2.66935433e-02,  2.74696873e-02,\n",
       "        2.75132206e-02,  2.79968604e-02,  2.90219076e-02,  2.95766777e-02,\n",
       "        3.01763114e-02,  3.04122242e-02,  3.06831667e-02,  3.07766872e-02,\n",
       "        3.10996334e-02,  3.15760927e-02,  3.16651088e-02,  3.25881064e-02,\n",
       "        3.30438965e-02,  3.32504250e-02,  3.37563838e-02,  3.48869441e-02,\n",
       "        3.52627536e-02,  3.57462808e-02,  3.62096651e-02,  3.63803825e-02,\n",
       "        3.69763346e-02,  3.76478026e-02,  3.80391256e-02,  3.85440073e-02,\n",
       "        3.93970085e-02,  3.99686498e-02,  4.02205967e-02,  4.10458568e-02,\n",
       "        4.11155384e-02,  4.14108798e-02,  4.30279752e-02,  4.42376988e-02,\n",
       "        4.47374108e-02,  4.52720160e-02,  4.69189081e-02,  4.74932329e-02,\n",
       "        4.79282604e-02,  4.92452354e-02,  4.96818146e-02,  5.14778075e-02,\n",
       "        5.25897541e-02,  5.29711351e-02,  5.44100482e-02,  5.45090046e-02,\n",
       "        5.59357412e-02,  5.70231253e-02,  5.80086312e-02,  5.92424778e-02,\n",
       "        6.00948848e-02,  6.12253214e-02,  6.36056175e-02,  6.42562322e-02,\n",
       "        6.58491545e-02,  6.80903671e-02,  6.92617195e-02,  7.00206946e-02,\n",
       "        7.10090095e-02,  7.33307390e-02,  7.38427746e-02,  7.43350686e-02,\n",
       "        7.49010205e-02,  7.72221415e-02,  8.11474905e-02,  8.44671703e-02,\n",
       "        8.57393446e-02,  8.67146318e-02,  9.14960479e-02,  9.28897058e-02,\n",
       "        9.47316170e-02,  9.78150432e-02,  9.86810546e-02,  1.00888763e-01,\n",
       "        1.02944711e-01,  1.06219592e-01,  1.08407658e-01,  1.11805749e-01,\n",
       "        1.15892155e-01,  1.20535726e-01,  1.25167816e-01,  1.25818199e-01,\n",
       "        1.28054529e-01,  1.32757360e-01,  1.35217135e-01,  1.40997253e-01,\n",
       "        1.41998729e-01,  1.48639765e-01,  1.51163494e-01,  1.54840153e-01,\n",
       "        1.63640543e-01,  1.66890343e-01,  1.68385169e-01,  1.77897797e-01,\n",
       "        1.83931199e-01,  1.89381042e-01,  1.96231307e-01,  2.01395330e-01,\n",
       "        2.08322076e-01,  2.18934474e-01,  2.32711181e-01,  2.38942245e-01,\n",
       "        2.47061055e-01,  2.51854588e-01,  2.55217987e-01,  2.64596730e-01,\n",
       "        2.84393028e-01,  2.98200610e-01,  3.06864170e-01,  3.15251579e-01,\n",
       "        3.39071595e-01,  3.44274687e-01,  3.61415531e-01,  3.89599122e-01,\n",
       "        4.11378969e-01,  4.25091874e-01,  4.39080791e-01,  4.62143674e-01,\n",
       "        4.77387457e-01,  4.98851641e-01,  5.26651285e-01,  5.57753397e-01,\n",
       "        6.03014095e-01,  6.21103852e-01,  6.67995140e-01,  6.92929831e-01,\n",
       "        7.75790728e-01,  8.25849226e-01,  8.85209917e-01,  8.97611858e-01,\n",
       "        1.05830605e+00,  1.10339989e+00,  1.23303952e+00,  1.44492601e+00,\n",
       "        1.50867892e+00,  1.71167500e+00,  2.25589749e+00,  2.54705886e+00,\n",
       "        2.81941690e+00,  3.22729251e+00,  3.71215644e+00,  5.07689090e+00])"
      ]
     },
     "execution_count": 6,
     "metadata": {},
     "output_type": "execute_result"
    }
   ],
   "source": [
    "eigenvector_variances"
   ]
  },
  {
   "cell_type": "markdown",
   "metadata": {},
   "source": [
    "To show the (substantial) benefit of eigenvector projections over coordinate projections, we create a plot that shows the variance lost due to each of these.\n",
    "\n",
    "For each `k` (projection dimension), we compute:\n",
    "* How much of the overall variance is lost when we project to the best `k` coordinate directions?\n",
    "* How much of the overall variance is lost when we project to the top `k` eigenvectors (as in PCA)?"
   ]
  },
  {
   "cell_type": "code",
   "execution_count": 7,
   "metadata": {},
   "outputs": [
    {
     "data": {
      "image/png": "[encoded data removed]",
      "text/plain": [
       "<Figure size 432x288 with 1 Axes>"
      ]
     },
     "metadata": {
      "needs_background": "light"
     },
     "output_type": "display_data"
    }
   ],
   "source": [
    "# Compute fraction of overall variance lost when projecting to k coordinate directions\n",
    "total_coordinate_variance = np.cumsum(coordinate_variances)\n",
    "total_coordinate_variance = total_coordinate_variance/total_coordinate_variance[783]\n",
    "# Compute fraction of overall variance lost when projecting to k eigenvector directions\n",
    "total_eigenvector_variance = np.cumsum(eigenvector_variances)\n",
    "total_eigenvector_variance = total_eigenvector_variance/total_eigenvector_variance[783]\n",
    "# Plot these results\n",
    "plt.plot(np.arange(1,784), total_coordinate_variance[784:0:-1], 'b-', lw=2)\n",
    "plt.plot(np.arange(1,784), total_eigenvector_variance[784:0:-1], 'r-', lw=2)\n",
    "plt.xlabel('projection dimension', fontsize=14)\n",
    "plt.ylabel('fraction of residual variance', fontsize=14)\n",
    "plt.xlim(0,784)\n",
    "plt.ylim(0.0,1.0)\n",
    "plt.legend(['coordinate directions', 'PCA directions'], fontsize=14)\n",
    "plt.show()"
   ]
  },
  {
   "cell_type": "markdown",
   "metadata": {},
   "source": [
    "## 3. Projection and reconstruction"
   ]
  },
  {
   "cell_type": "markdown",
   "metadata": {},
   "source": [
    "We now get a more *visual* feel for what information is lost during dimensionality reduction.\n",
    "\n",
    "Suppose we find the PCA projection to `k` dimensions. What is the result of:\n",
    "* Starting with a handwritten digit in the original (784-dimensional) space\n",
    "* *Projecting* it down to `k` dimensions\n",
    "* *Reconstructing* an image in 784-dimensional space from this `k`-dimensional projection?"
   ]
  },
  {
   "cell_type": "markdown",
   "metadata": {},
   "source": [
    "We begin by computing the eigenvalues and eigenvectors of the covariance matrix. The routine `numpy.linalg.eigh` returns these in order of increasing eigenvalue. The eigenvectors are normalized to unit length and returned as columns of a matrix."
   ]
  },
  {
   "cell_type": "code",
   "execution_count": 8,
   "metadata": {},
   "outputs": [],
   "source": [
    "eigenvalues, eigenvectors = np.linalg.eigh(Sigma)"
   ]
  },
  {
   "cell_type": "code",
   "execution_count": 16,
   "metadata": {},
   "outputs": [
    {
     "data": {
      "text/plain": [
       "(784, 784)"
      ]
     },
     "execution_count": 16,
     "metadata": {},
     "output_type": "execute_result"
    }
   ],
   "source": [
    "np.shape(eigenvectors)"
   ]
  },
  {
   "cell_type": "code",
   "execution_count": 17,
   "metadata": {},
   "outputs": [
    {
     "data": {
      "text/plain": [
       "(784,)"
      ]
     },
     "execution_count": 17,
     "metadata": {},
     "output_type": "execute_result"
    }
   ],
   "source": [
    "np.shape(eigenvalues)"
   ]
  },
  {
   "cell_type": "markdown",
   "metadata": {},
   "source": [
    "Let `U` be the 784-by-`k` matrix whose columns are the top `k` eigenvectors. Then:\n",
    "* the matrix `transpose(U)` performs the PCA projection onto the top `k` directions\n",
    "* the matrix `U` reconstructs a point in the original space from its `k` dimensional projection\n",
    "\n",
    "Thus the product `U*transpose(U)` is a 784-by-784 matrix that does a *projection-followed-by-reconstruction*. The following function returns this matrix for any specified `k`."
   ]
  },
  {
   "cell_type": "code",
   "execution_count": 18,
   "metadata": {},
   "outputs": [],
   "source": [
    "# Function that returns the project-and-reconstruct operations as a single matrix\n",
    "def projection_and_reconstruction(k):\n",
    "    U = eigenvectors[:,(784-k):784]\n",
    "    P = np.dot(U,U.T)\n",
    "    return P"
   ]
  },
  {
   "cell_type": "markdown",
   "metadata": {},
   "source": [
    "This next routine displays an handwritten digit image given as a 784-dimensional vector. It begins by clipping each entry to lie in the range [0,255]; the images returned after PCA reconstruction might not satisfy this property."
   ]
  },
  {
   "cell_type": "code",
   "execution_count": 19,
   "metadata": {},
   "outputs": [],
   "source": [
    "def show_digit(x):\n",
    "    # Make sure all entries of x are in the range [0,255]\n",
    "    for i in range(784):\n",
    "        x[i] = max(0.0, x[i])\n",
    "        x[i] = min(255.0, x[i])\n",
    "    # Now display\n",
    "    plt.axis('off')\n",
    "    plt.imshow(x.reshape((28,28)), cmap=plt.cm.gray)   #  converts the vector into a 28x28 array,\n",
    "    plt.show()\n",
    "    return"
   ]
  },
  {
   "cell_type": "markdown",
   "metadata": {},
   "source": [
    "We finally get to our main visualization function. It is invoked as follows:\n",
    "* **`show_effect_of_PCA(x, k_list)`**\n",
    "\n",
    "where:\n",
    "* `x` is the image of a handwritten digit (a 784-dimensional vector)\n",
    "* `k_list` is a list of projection dimensions (in the range 1 to 784)\n",
    "\n",
    "It displays the original image as well as the reconstructions after projecting to each of the specified dimensions using PCA."
   ]
  },
  {
   "cell_type": "code",
   "execution_count": 20,
   "metadata": {},
   "outputs": [],
   "source": [
    "def show_effect_of_PCA(x, k_list):\n",
    "    print (\"Original:\")\n",
    "    show_digit(x)\n",
    "    for k in k_list:\n",
    "        if (k > 0) and (k < 784):\n",
    "            print (\"Projection to dimension \", k)\n",
    "            P = projection_and_reconstruction(k)\n",
    "            show_digit(P.dot(x))"
   ]
  },
  {
   "cell_type": "markdown",
   "metadata": {},
   "source": [
    "Let's try it out on the 1000th data point."
   ]
  },
  {
   "cell_type": "code",
   "execution_count": 22,
   "metadata": {},
   "outputs": [
    {
     "name": "stdout",
     "output_type": "stream",
     "text": [
      "Original:\n"
     ]
    },
    {
     "data": {
      "image/png": "[encoded data removed]",
      "text/plain": [
       "<Figure size 432x288 with 1 Axes>"
      ]
     },
     "metadata": {
      "needs_background": "light"
     },
     "output_type": "display_data"
    },
    {
     "name": "stdout",
     "output_type": "stream",
     "text": [
      "Projection to dimension  100\n"
     ]
    },
    {
     "data": {
      "image/png": "[encoded data removed]",
      "text/plain": [
       "<Figure size 432x288 with 1 Axes>"
      ]
     },
     "metadata": {
      "needs_background": "light"
     },
     "output_type": "display_data"
    },
    {
     "name": "stdout",
     "output_type": "stream",
     "text": [
      "Projection to dimension  50\n"
     ]
    },
    {
     "data": {
      "image/png": "[encoded data removed]",
      "text/plain": [
       "<Figure size 432x288 with 1 Axes>"
      ]
     },
     "metadata": {
      "needs_background": "light"
     },
     "output_type": "display_data"
    },
    {
     "name": "stdout",
     "output_type": "stream",
     "text": [
      "Projection to dimension  25\n"
     ]
    },
    {
     "data": {
      "image/png": "[encoded data removed]",
      "text/plain": [
       "<Figure size 432x288 with 1 Axes>"
      ]
     },
     "metadata": {
      "needs_background": "light"
     },
     "output_type": "display_data"
    },
    {
     "name": "stdout",
     "output_type": "stream",
     "text": [
      "Projection to dimension  10\n"
     ]
    },
    {
     "data": {
      "image/png": "[encoded data removed]",
      "text/plain": [
       "<Figure size 432x288 with 1 Axes>"
      ]
     },
     "metadata": {
      "needs_background": "light"
     },
     "output_type": "display_data"
    }
   ],
   "source": [
    "index = 828\n",
    "show_effect_of_PCA(train_data[index,], [100, 50, 25, 10])"
   ]
  },
  {
   "cell_type": "markdown",
   "metadata": {},
   "source": [
    "**<font color=\"magenta\">For you to do: Try plenty of other examples!</font>**"
   ]
  },
  {
   "cell_type": "code",
   "execution_count": 23,
   "metadata": {},
   "outputs": [
    {
     "name": "stdout",
     "output_type": "stream",
     "text": [
      "Original:\n"
     ]
    },
    {
     "data": {
      "image/png": "[encoded data removed]",
      "text/plain": [
       "<Figure size 432x288 with 1 Axes>"
      ]
     },
     "metadata": {
      "needs_background": "light"
     },
     "output_type": "display_data"
    },
    {
     "name": "stdout",
     "output_type": "stream",
     "text": [
      "Projection to dimension  100\n"
     ]
    },
    {
     "data": {
      "image/png": "[encoded data removed]",
      "text/plain": [
       "<Figure size 432x288 with 1 Axes>"
      ]
     },
     "metadata": {
      "needs_background": "light"
     },
     "output_type": "display_data"
    },
    {
     "name": "stdout",
     "output_type": "stream",
     "text": [
      "Projection to dimension  50\n"
     ]
    },
    {
     "data": {
      "image/png": "[encoded data removed]",
      "text/plain": [
       "<Figure size 432x288 with 1 Axes>"
      ]
     },
     "metadata": {
      "needs_background": "light"
     },
     "output_type": "display_data"
    },
    {
     "name": "stdout",
     "output_type": "stream",
     "text": [
      "Projection to dimension  25\n"
     ]
    },
    {
     "data": {
      "image/png": "[encoded data removed]",
      "text/plain": [
       "<Figure size 432x288 with 1 Axes>"
      ]
     },
     "metadata": {
      "needs_background": "light"
     },
     "output_type": "display_data"
    },
    {
     "name": "stdout",
     "output_type": "stream",
     "text": [
      "Projection to dimension  10\n"
     ]
    },
    {
     "data": {
      "image/png": "[encoded data removed]",
      "text/plain": [
       "<Figure size 432x288 with 1 Axes>"
      ]
     },
     "metadata": {
      "needs_background": "light"
     },
     "output_type": "display_data"
    }
   ],
   "source": [
    "index = 5\n",
    "show_effect_of_PCA(train_data[index,], [100, 50, 25, 10])"
   ]
  },
  {
   "cell_type": "code",
   "execution_count": null,
   "metadata": {},
   "outputs": [],
   "source": [
    "v    "
   ]
  }
 ],
 "metadata": {
  "kernelspec": {
   "display_name": "Python 3",
   "language": "python",
   "name": "python3"
  },
  "language_info": {
   "codemirror_mode": {
    "name": "ipython",
    "version": 3
   },
   "file_extension": ".py",
   "mimetype": "text/x-python",
   "name": "python",
   "nbconvert_exporter": "python",
   "pygments_lexer": "ipython3",
   "version": "3.6.13"
  },
  "toc": {
   "colors": {
    "hover_highlight": "#DAA520",
    "navigate_num": "#000000",
    "navigate_text": "#333333",
    "running_highlight": "#FF0000",
    "selected_highlight": "#FFD700",
    "sidebar_border": "#EEEEEE",
    "wrapper_background": "#FFFFFF"
   },
   "moveMenuLeft": true,
   "nav_menu": {
    "height": "12px",
    "width": "252px"
   },
   "navigate_menu": true,
   "number_sections": false,
   "sideBar": false,
   "threshold": 4,
   "toc_cell": false,
   "toc_position": {
    "height": "344px",
    "left": "1px",
    "right": "20px",
    "top": "106px",
    "width": "212px"
   },
   "toc_section_display": "block",
   "toc_window_display": false,
   "widenNotebook": false
  }
 },
 "nbformat": 4,
 "nbformat_minor": 1
}
