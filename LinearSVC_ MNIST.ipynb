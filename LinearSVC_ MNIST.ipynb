{
 "cells": [
  {
   "cell_type": "code",
   "execution_count": 1,
   "id": "982c6d61",
   "metadata": {},
   "outputs": [],
   "source": [
    "%matplotlib inline\n",
    "\n",
    "import sys\n",
    "import os,gzip\n",
    "import numpy as np\n",
    "import matplotlib\n",
    "import matplotlib.pyplot as plt\n",
    "from sklearn.svm import LinearSVC,SVC\n",
    "matplotlib.rc('xtick', labelsize=14) \n",
    "matplotlib.rc('ytick', labelsize=14)\n",
    "\n",
    "if sys.version_info[0] == 2:\n",
    "    from urllib import urlretrieve\n",
    "else:\n",
    "    from urllib.request import urlretrieve"
   ]
  },
  {
   "cell_type": "code",
   "execution_count": 2,
   "id": "13a614ca",
   "metadata": {},
   "outputs": [],
   "source": [
    "# Function that downloads a specified MNIST data file from Yann Le Cun's website\n",
    "def download(filename, source='http://yann.lecun.com/exdb/mnist/'):\n",
    "    print(\"Downloading %s\" % filename)\n",
    "    urlretrieve(source + filename, filename)\n",
    "\n",
    "# Invokes download() if necessary, then reads in images\n",
    "def load_mnist_images(filename):\n",
    "    if not os.path.exists(filename):\n",
    "        download(filename)\n",
    "    with gzip.open(filename, 'rb') as f:\n",
    "        data = np.frombuffer(f.read(), np.uint8, offset=16)\n",
    "    data = data.reshape(-1,784)\n",
    "    return data\n",
    "\n",
    "def load_mnist_labels(filename):\n",
    "    if not os.path.exists(filename):\n",
    "        download(filename)\n",
    "    with gzip.open(filename, 'rb') as f:\n",
    "        data = np.frombuffer(f.read(), np.uint8, offset=8)\n",
    "    return data"
   ]
  },
  {
   "cell_type": "code",
   "execution_count": 3,
   "id": "c849df50",
   "metadata": {},
   "outputs": [],
   "source": [
    "## Load the training set\n",
    "train_data = load_mnist_images('train-images-idx3-ubyte.gz')\n",
    "train_labels = load_mnist_labels('train-labels-idx1-ubyte.gz')\n",
    "\n",
    "## Load the testing set\n",
    "test_data = load_mnist_images('t10k-images-idx3-ubyte.gz')\n",
    "test_labels = load_mnist_labels('t10k-labels-idx1-ubyte.gz')"
   ]
  },
  {
   "cell_type": "code",
   "execution_count": 4,
   "id": "4ebff1e6",
   "metadata": {},
   "outputs": [],
   "source": [
    "def fit_linear_classifier(C_value=0.1):\n",
    "    clf = LinearSVC(loss='hinge', C=C_value)\n",
    "    clf.fit(train_data,train_labels)\n",
    "    ## Get predictions on training data\n",
    "    train_predictions = clf.predict(train_data)\n",
    "    train_error = float(np.sum((train_predictions) != (train_labels)))/len(train_labels)\n",
    "    ## Get predictions on test data\n",
    "    test_predictions = clf.predict(test_data)\n",
    "    test_error = float(np.sum((test_predictions) != (test_labels)))/len(test_labels)\n",
    "    ##\n",
    "    return test_error"
   ]
  },
  {
   "cell_type": "code",
   "execution_count": null,
   "id": "1cbd79fe",
   "metadata": {},
   "outputs": [],
   "source": []
  },
  {
   "cell_type": "code",
   "execution_count": 5,
   "id": "07f6cd0b",
   "metadata": {},
   "outputs": [
    {
     "name": "stderr",
     "output_type": "stream",
     "text": [
      "C:\\Users\\Maria\\Anaconda3\\lib\\site-packages\\sklearn\\svm\\_base.py:947: ConvergenceWarning: Liblinear failed to converge, increase the number of iterations.\n",
      "  \"the number of iterations.\", ConvergenceWarning)\n"
     ]
    }
   ],
   "source": [
    "clf = LinearSVC(loss='hinge', C=0.01)\n",
    "clf.fit(train_data,train_labels)\n",
    "## Get predictions on training data\n",
    "train_predictions = clf.predict(train_data)\n",
    "## Get predictions on test data\n",
    "test_predictions = clf.predict(test_data)\n",
    "\n",
    "#train_error"
   ]
  },
  {
   "cell_type": "code",
   "execution_count": 20,
   "id": "409ac6db",
   "metadata": {},
   "outputs": [
    {
     "data": {
      "text/plain": [
       "0.12735"
      ]
     },
     "execution_count": 20,
     "metadata": {},
     "output_type": "execute_result"
    }
   ],
   "source": [
    "train_error1 = float(np.sum((train_predictions) != (train_labels)))/len(train_labels)\n",
    "train_error1"
   ]
  },
  {
   "cell_type": "code",
   "execution_count": 23,
   "id": "7dc66c45",
   "metadata": {},
   "outputs": [
    {
     "name": "stderr",
     "output_type": "stream",
     "text": [
      "C:\\Users\\Maria\\Anaconda3\\lib\\site-packages\\sklearn\\svm\\_base.py:947: ConvergenceWarning: Liblinear failed to converge, increase the number of iterations.\n",
      "  \"the number of iterations.\", ConvergenceWarning)\n"
     ]
    },
    {
     "data": {
      "text/plain": [
       "0.12916666666666665"
      ]
     },
     "execution_count": 23,
     "metadata": {},
     "output_type": "execute_result"
    }
   ],
   "source": [
    "train_error2 = 1 - clf.fit(train_data,train_labels).score(train_data,train_labels)\n",
    "train_error2  #0.1164"
   ]
  },
  {
   "cell_type": "code",
   "execution_count": 22,
   "id": "b34d5f3a",
   "metadata": {},
   "outputs": [
    {
     "data": {
      "text/plain": [
       "0.12734999999999996"
      ]
     },
     "execution_count": 22,
     "metadata": {},
     "output_type": "execute_result"
    }
   ],
   "source": [
    "from sklearn.metrics import accuracy_score\n",
    "train_error3 = 1 - accuracy_score(train_labels,train_predictions)\n",
    "train_error3"
   ]
  },
  {
   "cell_type": "code",
   "execution_count": null,
   "id": "6d9d4b74",
   "metadata": {},
   "outputs": [],
   "source": []
  },
  {
   "cell_type": "code",
   "execution_count": 25,
   "id": "d7250b42",
   "metadata": {},
   "outputs": [
    {
     "data": {
      "text/plain": [
       "0.1317"
      ]
     },
     "execution_count": 25,
     "metadata": {},
     "output_type": "execute_result"
    }
   ],
   "source": [
    "test_error1 = float(np.sum((test_predictions) != (test_labels)))/len(test_labels)\n",
    "test_error1"
   ]
  },
  {
   "cell_type": "code",
   "execution_count": 26,
   "id": "6a91b66c",
   "metadata": {},
   "outputs": [
    {
     "name": "stderr",
     "output_type": "stream",
     "text": [
      "C:\\Users\\Maria\\Anaconda3\\lib\\site-packages\\sklearn\\svm\\_base.py:947: ConvergenceWarning: Liblinear failed to converge, increase the number of iterations.\n",
      "  \"the number of iterations.\", ConvergenceWarning)\n"
     ]
    },
    {
     "data": {
      "text/plain": [
       "0.04379999999999995"
      ]
     },
     "execution_count": 26,
     "metadata": {},
     "output_type": "execute_result"
    }
   ],
   "source": [
    "test_error2 = 1 - clf.fit(test_data,test_labels).score(test_data,test_labels)\n",
    "test_error2"
   ]
  },
  {
   "cell_type": "code",
   "execution_count": 27,
   "id": "597d0f35",
   "metadata": {},
   "outputs": [
    {
     "data": {
      "text/plain": [
       "0.13170000000000004"
      ]
     },
     "execution_count": 27,
     "metadata": {},
     "output_type": "execute_result"
    }
   ],
   "source": [
    "test_error3 = 1 - accuracy_score(test_labels,test_predictions)\n",
    "test_error3"
   ]
  },
  {
   "cell_type": "code",
   "execution_count": null,
   "id": "d56c2b47",
   "metadata": {},
   "outputs": [],
   "source": []
  },
  {
   "cell_type": "code",
   "execution_count": 6,
   "id": "f9f8db98",
   "metadata": {},
   "outputs": [
    {
     "name": "stderr",
     "output_type": "stream",
     "text": [
      "C:\\Users\\Maria\\Anaconda3\\lib\\site-packages\\sklearn\\svm\\_base.py:947: ConvergenceWarning: Liblinear failed to converge, increase the number of iterations.\n",
      "  \"the number of iterations.\", ConvergenceWarning)\n"
     ]
    },
    {
     "name": "stdout",
     "output_type": "stream",
     "text": [
      "Error rate for C = 0.01: test 0.137\n"
     ]
    },
    {
     "name": "stderr",
     "output_type": "stream",
     "text": [
      "C:\\Users\\Maria\\Anaconda3\\lib\\site-packages\\sklearn\\svm\\_base.py:947: ConvergenceWarning: Liblinear failed to converge, increase the number of iterations.\n",
      "  \"the number of iterations.\", ConvergenceWarning)\n"
     ]
    },
    {
     "name": "stdout",
     "output_type": "stream",
     "text": [
      "Error rate for C = 0.10: test 0.134\n"
     ]
    },
    {
     "name": "stderr",
     "output_type": "stream",
     "text": [
      "C:\\Users\\Maria\\Anaconda3\\lib\\site-packages\\sklearn\\svm\\_base.py:947: ConvergenceWarning: Liblinear failed to converge, increase the number of iterations.\n",
      "  \"the number of iterations.\", ConvergenceWarning)\n"
     ]
    },
    {
     "name": "stdout",
     "output_type": "stream",
     "text": [
      "Error rate for C = 1.00: test 0.114\n"
     ]
    },
    {
     "name": "stderr",
     "output_type": "stream",
     "text": [
      "C:\\Users\\Maria\\Anaconda3\\lib\\site-packages\\sklearn\\svm\\_base.py:947: ConvergenceWarning: Liblinear failed to converge, increase the number of iterations.\n",
      "  \"the number of iterations.\", ConvergenceWarning)\n"
     ]
    },
    {
     "name": "stdout",
     "output_type": "stream",
     "text": [
      "Error rate for C = 10.00: test 0.117\n"
     ]
    },
    {
     "name": "stderr",
     "output_type": "stream",
     "text": [
      "C:\\Users\\Maria\\Anaconda3\\lib\\site-packages\\sklearn\\svm\\_base.py:947: ConvergenceWarning: Liblinear failed to converge, increase the number of iterations.\n",
      "  \"the number of iterations.\", ConvergenceWarning)\n"
     ]
    },
    {
     "name": "stdout",
     "output_type": "stream",
     "text": [
      "Error rate for C = 100.00: test 0.123\n"
     ]
    }
   ],
   "source": [
    "cvals = [0.01,0.1,1.0,10.0,100.0]\n",
    "for C in cvals:\n",
    "    test_error = fit_linear_classifier(C)\n",
    "    print (\"Error rate for C = %0.2f: test %0.3f\" % (C, test_error))"
   ]
  },
  {
   "cell_type": "code",
   "execution_count": 4,
   "id": "e713ee85",
   "metadata": {},
   "outputs": [],
   "source": [
    "def fit_quadratic_classifier(C_value=1.0):\n",
    "    clf = SVC(C=C_value, kernel='poly',degree=2)\n",
    "    clf.fit(train_data,train_labels)\n",
    "    ## Get predictions on training data\n",
    "    train_predictions = clf.predict(train_data)\n",
    "    train_error = float(np.sum((train_predictions) != (train_labels)))/len(train_labels)\n",
    "    ## Get predictions on test data\n",
    "    test_predictions = clf.predict(test_data)\n",
    "    test_error = float(np.sum((test_predictions) != (test_labels)))/len(test_labels)\n",
    "    ##\n",
    "    return test_error"
   ]
  },
  {
   "cell_type": "code",
   "execution_count": 6,
   "id": "031c90bc",
   "metadata": {},
   "outputs": [],
   "source": [
    "clf = SVC(C=1.0, kernel='poly',degree=2)\n",
    "clf.fit(train_data,train_labels)\n",
    "## Get predictions on training data\n",
    "train_predictions = clf.predict(train_data)\n",
    "\n",
    "## Get predictions on test data\n",
    "test_predictions = clf.predict(test_data)\n",
    "\n",
    "#train_error"
   ]
  },
  {
   "cell_type": "code",
   "execution_count": 25,
   "id": "833429fd",
   "metadata": {},
   "outputs": [
    {
     "data": {
      "text/plain": [
       "0.01248333333333329"
      ]
     },
     "execution_count": 25,
     "metadata": {},
     "output_type": "execute_result"
    }
   ],
   "source": [
    "train_error = 1 -  float(np.sum((train_predictions) != (train_labels)))/len(test_labels)\n",
    "train_error"
   ]
  },
  {
   "cell_type": "code",
   "execution_count": 7,
   "id": "2a125772",
   "metadata": {},
   "outputs": [
    {
     "data": {
      "text/plain": [
       "0.0226"
      ]
     },
     "execution_count": 7,
     "metadata": {},
     "output_type": "execute_result"
    }
   ],
   "source": [
    "test_error1 = float(np.sum((test_predictions) != (test_labels)))/len(test_labels)\n",
    "test_error1"
   ]
  },
  {
   "cell_type": "code",
   "execution_count": 8,
   "id": "67527fed",
   "metadata": {},
   "outputs": [
    {
     "data": {
      "text/plain": [
       "0.014000000000000012"
      ]
     },
     "execution_count": 8,
     "metadata": {},
     "output_type": "execute_result"
    }
   ],
   "source": [
    "test_error2 = 1 - clf.fit(test_data,test_labels).score(test_data,test_labels)\n",
    "test_error2   # it should be 0.0194 when C = 1"
   ]
  },
  {
   "cell_type": "code",
   "execution_count": 9,
   "id": "f566729b",
   "metadata": {},
   "outputs": [
    {
     "data": {
      "text/plain": [
       "0.022599999999999953"
      ]
     },
     "execution_count": 9,
     "metadata": {},
     "output_type": "execute_result"
    }
   ],
   "source": [
    "test_error3 = 1 - accuracy_score(test_labels,test_predictions)\n",
    "test_error3"
   ]
  },
  {
   "cell_type": "code",
   "execution_count": 5,
   "id": "4f6f9ff3",
   "metadata": {},
   "outputs": [
    {
     "name": "stdout",
     "output_type": "stream",
     "text": [
      "Error rate for C = 0.01: test 0.083\n",
      "Error rate for C = 0.10: test 0.040\n",
      "Error rate for C = 1.00: test 0.023\n"
     ]
    }
   ],
   "source": [
    "cvals = [0.01,0.1,1.0]\n",
    "for C in cvals:\n",
    "    test_error = fit_quadratic_classifier(C)\n",
    "    print (\"Error rate for C = %0.2f: test %0.3f\" % (C, test_error))"
   ]
  },
  {
   "cell_type": "code",
   "execution_count": null,
   "id": "c5378b28",
   "metadata": {},
   "outputs": [],
   "source": []
  }
 ],
 "metadata": {
  "kernelspec": {
   "display_name": "Python 3",
   "language": "python",
   "name": "python3"
  },
  "language_info": {
   "codemirror_mode": {
    "name": "ipython",
    "version": 3
   },
   "file_extension": ".py",
   "mimetype": "text/x-python",
   "name": "python",
   "nbconvert_exporter": "python",
   "pygments_lexer": "ipython3",
   "version": "3.6.13"
  }
 },
 "nbformat": 4,
 "nbformat_minor": 5
}
