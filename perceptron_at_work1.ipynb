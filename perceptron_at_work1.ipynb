{
 "cells": [
  {
   "cell_type": "markdown",
   "metadata": {},
   "source": [
    "# The Perceptron algorithm at work"
   ]
  },
  {
   "cell_type": "code",
   "execution_count": 1,
   "metadata": {},
   "outputs": [],
   "source": [
    "import numpy as np"
   ]
  },
  {
   "cell_type": "markdown",
   "metadata": {},
   "source": [
    "In this notebook, we will look in detail at the Perceptron algorithm for learning a linear classifier in the case of binary labels."
   ]
  },
  {
   "cell_type": "markdown",
   "metadata": {},
   "source": [
    "## 1. The algorithm"
   ]
  },
  {
   "cell_type": "markdown",
   "metadata": {},
   "source": [
    "This first procedure, **evaluate_classifier**, takes as input the parameters of a linear classifier (`w,b`) as well as a data point (`x`) and returns the prediction of that classifier at `x`.\n",
    "\n",
    "The prediction is:\n",
    "* `1`  if `w.x+b > 0`\n",
    "* `0`  if `w.x+b = 0`\n",
    "* `-1` if `w.x+b < -1`"
   ]
  },
  {
   "cell_type": "code",
   "execution_count": 15,
   "metadata": {},
   "outputs": [],
   "source": [
    "def evaluate_classifier(w,b,x):\n",
    "    if (np.dot(w,x) + b) > 0:\n",
    "        return 1\n",
    "    if (np.dot(w,x) + b) <= 0:\n",
    "        return -1\n",
    "    return 0"
   ]
  },
  {
   "cell_type": "markdown",
   "metadata": {},
   "source": [
    "Here is the Perceptron training procedure. It is invoked as follows:\n",
    "* `w,b,converged = train_perceptron(x,y,n_iters)`\n",
    "\n",
    "where\n",
    "* `x`: n-by-d numpy array with n data points, each d-dimensional\n",
    "* `y`: n-dimensional numpy array with the labels (each 1 or -1)\n",
    "* `n_iters`: the training procedure will run through the data at most this many times (default: 100)\n",
    "* `w,b`: parameters for the final linear classifier\n",
    "* `converged`: flag (True/False) indicating whether the algorithm converged within the prescribed number of iterations\n",
    "\n",
    "If the data is not linearly separable, then the training procedure will not converge."
   ]
  },
  {
   "cell_type": "code",
   "execution_count": 16,
   "metadata": {},
   "outputs": [],
   "source": [
    "def train_perceptron(x,y,n_iters=100):\n",
    "    n,d = x.shape\n",
    "    w = np.zeros((d,))\n",
    "    b = 0\n",
    "    done = False\n",
    "    converged = True\n",
    "    iters = 0\n",
    "    np.random.seed(None)\n",
    "    while not(done):\n",
    "        done = True\n",
    "        I = np.random.permutation(n)\n",
    "        for i in range(n):\n",
    "            j = I[i]\n",
    "            if (evaluate_classifier(w,b,x[j,:]) != y[j]):\n",
    "                w = w + y[j] * x[j,:]\n",
    "                b = b + y[j]\n",
    "                done = False\n",
    "        iters = iters + 1\n",
    "        if iters > n_iters:\n",
    "            done = True\n",
    "            converged = False\n",
    "    if converged:\n",
    "        print(\"Perceptron algorithm: iterations until convergence: \", iters)\n",
    "    else:\n",
    "        print(\"Perceptron algorithm: did not converge within the specified number of iterations\")\n",
    "    return w, b, converged"
   ]
  },
  {
   "cell_type": "markdown",
   "metadata": {},
   "source": [
    "## 2. Experiments with the Perceptron"
   ]
  },
  {
   "cell_type": "markdown",
   "metadata": {},
   "source": [
    "We start with standard includes."
   ]
  },
  {
   "cell_type": "code",
   "execution_count": 2,
   "metadata": {},
   "outputs": [],
   "source": [
    "%matplotlib inline\n",
    "import numpy as np\n",
    "import matplotlib\n",
    "import matplotlib.pyplot as plt\n",
    "matplotlib.rc('xtick', labelsize=14) \n",
    "matplotlib.rc('ytick', labelsize=14)"
   ]
  },
  {
   "cell_type": "markdown",
   "metadata": {},
   "source": [
    "The directory containing this notebook should also contain the two-dimensional data files, `data_1.txt` and `data_2.txt`. These files contain one data point per line, along with a label, like:\n",
    "* `3 8 1` (meaning that point `x=(3,8)` has label `y=1`)\n",
    "\n",
    "The next procedure, **run_perceptron**, loads one of these data sets, learns a linear classifier using the Perceptron algorithm, and then displays the data as well as the boundary."
   ]
  },
  {
   "cell_type": "code",
   "execution_count": 20,
   "metadata": {},
   "outputs": [],
   "source": [
    "def run_perceptron(datafile):\n",
    "    data = np.loadtxt(datafile)\n",
    "    n,d = data.shape\n",
    "    # Create training set x and labels y\n",
    "    x = data[:,0:2]\n",
    "    y = data[:,2]\n",
    "    # Run the Perceptron algorithm for at most 100 iterations\n",
    "    w,b,converged = train_perceptron(x,y,10000)\n",
    "    # Determine the x1- and x2- limits of the plot\n",
    "    x1min = min(x[:,0]) - 1\n",
    "    x1max = max(x[:,0]) + 1\n",
    "    x2min = min(x[:,1]) - 1\n",
    "    x2max = max(x[:,1]) + 1\n",
    "    plt.xlim(x1min,x1max)\n",
    "    plt.ylim(x2min,x2max)\n",
    "    # Plot the data points\n",
    "    plt.plot(x[(y==1),0], x[(y==1),1], 'ro')\n",
    "    plt.plot(x[(y==-1),0], x[(y==-1),1], 'k^')\n",
    "    # Construct a grid of points at which to evaluate the classifier\n",
    "    if converged:\n",
    "        grid_spacing = 0.05\n",
    "        xx1, xx2 = np.meshgrid(np.arange(x1min, x1max, grid_spacing), np.arange(x2min, x2max, grid_spacing))\n",
    "        grid = np.c_[xx1.ravel(), xx2.ravel()]\n",
    "        Z = np.array([evaluate_classifier(w,b,pt) for pt in grid])\n",
    "        # Show the classifier's boundary using a color plot\n",
    "        Z = Z.reshape(xx1.shape)\n",
    "        plt.pcolormesh(xx1, xx2, Z, cmap=plt.cm.PRGn, vmin=-3, vmax=3)\n",
    "    plt.show()"
   ]
  },
  {
   "cell_type": "markdown",
   "metadata": {},
   "source": [
    "#### Using the linear_model perceptron module from sklearn"
   ]
  },
  {
   "cell_type": "code",
   "execution_count": 5,
   "metadata": {},
   "outputs": [],
   "source": [
    "from sklearn.linear_model import Perceptron\n",
    "\n",
    "def learn_and_display_Perceptron(datafile):\n",
    "    #taking data reading this from the above functions\n",
    "    data = np.loadtxt(datafile)\n",
    "    n,d = data.shape\n",
    "    x = data[:,0:2]\n",
    "    y = data[:,2]\n",
    "\n",
    "    clf = Perceptron(max_iter=10000)\n",
    "    clf.fit(x, y)\n",
    "    sv = np.zeros(n,dtype=bool)  ## all False array\n",
    "    notsv = np.logical_not(sv)   # all True array\n",
    "    \n",
    "        # Determine the x1- and x2- limits of the plot\n",
    "    x1min = min(x[:,0]) - 1\n",
    "    x1max = max(x[:,0]) + 1\n",
    "    x2min = min(x[:,1]) - 1\n",
    "    x2max = max(x[:,1]) + 1\n",
    "    plt.xlim(x1min,x1max)\n",
    "    plt.ylim(x2min,x2max)\n",
    "    # Plot the data points, enlarging those that are support vectors\n",
    "    plt.plot(x[(y==1)*notsv,0], x[(y==1)*notsv,1], 'ro')\n",
    "    plt.plot(x[(y==1)*sv,0], x[(y==1)*sv,1], 'ro', markersize=10)\n",
    "    plt.plot(x[(y==-1)*notsv,0], x[(y==-1)*notsv,1], 'k^')\n",
    "    plt.plot(x[(y==-1)*sv,0], x[(y==-1)*sv,1], 'k^', markersize=10)\n",
    "    # Construct a grid of points and evaluate classifier at each grid points\n",
    "    grid_spacing = 0.05\n",
    "    xx1, xx2 = np.meshgrid(np.arange(x1min, x1max, grid_spacing), np.arange(x2min, x2max, grid_spacing))\n",
    "    grid = np.c_[xx1.ravel(), xx2.ravel()]\n",
    "    Z = clf.predict(grid)\n",
    "    # Quantize the values to -1, -0.5, 0, 0.5, 1 for display purposes\n",
    "    for i in range(len(Z)):\n",
    "        Z[i] = min(Z[i],1.0)\n",
    "        Z[i] = max(Z[i],-1.0)\n",
    "        if (Z[i] > 0.0) and (Z[i] < 1.0):\n",
    "            Z[i] = 0.5\n",
    "        if (Z[i] < 0.0) and (Z[i] > -1.0):\n",
    "            Z[i] = -0.5\n",
    "    # Show boundary and margin using a color plot\n",
    "    Z = Z.reshape(xx1.shape)\n",
    "    plt.pcolormesh(xx1, xx2, Z, cmap=plt.cm.PRGn, vmin=-2, vmax=2, shading='auto')\n",
    "    plt.show()"
   ]
  },
  {
   "cell_type": "code",
   "execution_count": 6,
   "metadata": {},
   "outputs": [
    {
     "data": {
      "image/png": "[encoded data removed]",
      "text/plain": [
       "<Figure size 432x288 with 1 Axes>"
      ]
     },
     "metadata": {
      "needs_background": "light"
     },
     "output_type": "display_data"
    }
   ],
   "source": [
    "learn_and_display_Perceptron('data_1.txt')"
   ]
  },
  {
   "cell_type": "code",
   "execution_count": 52,
   "metadata": {},
   "outputs": [
    {
     "data": {
      "image/png": "[encoded data removed]",
      "text/plain": [
       "<Figure size 432x288 with 1 Axes>"
      ]
     },
     "metadata": {
      "needs_background": "light"
     },
     "output_type": "display_data"
    }
   ],
   "source": [
    "learn_and_display_Perceptron('data_2.txt')"
   ]
  },
  {
   "cell_type": "code",
   "execution_count": null,
   "metadata": {},
   "outputs": [],
   "source": []
  },
  {
   "cell_type": "markdown",
   "metadata": {},
   "source": [
    "Let's run this on `data_1.txt`. Try running it a few times; you should get slightly different outcomes, because of the randomization in the learning procedure."
   ]
  },
  {
   "cell_type": "code",
   "execution_count": 21,
   "metadata": {},
   "outputs": [
    {
     "name": "stdout",
     "output_type": "stream",
     "text": [
      "Perceptron algorithm: iterations until convergence:  10\n"
     ]
    },
    {
     "name": "stderr",
     "output_type": "stream",
     "text": [
      "C:\\Users\\Maria\\Anaconda3\\lib\\site-packages\\ipykernel_launcher.py:27: MatplotlibDeprecationWarning: shading='flat' when X and Y have the same dimensions as C is deprecated since 3.3.  Either specify the corners of the quadrilaterals with X and Y, or pass shading='auto', 'nearest' or 'gouraud', or set rcParams['pcolor.shading'].  This will become an error two minor releases later.\n"
     ]
    },
    {
     "data": {
      "image/png": "[encoded data removed]",
      "text/plain": [
       "<Figure size 432x288 with 1 Axes>"
      ]
     },
     "metadata": {
      "needs_background": "light"
     },
     "output_type": "display_data"
    }
   ],
   "source": [
    "run_perceptron('data_1.txt')"
   ]
  },
  {
   "cell_type": "markdown",
   "metadata": {},
   "source": [
    "And now, let's try running it on `data_2.txt`. *What's going on here?*"
   ]
  },
  {
   "cell_type": "code",
   "execution_count": 23,
   "metadata": {},
   "outputs": [
    {
     "name": "stdout",
     "output_type": "stream",
     "text": [
      "Perceptron algorithm: did not converge within the specified number of iterations\n"
     ]
    },
    {
     "data": {
      "image/png": "[encoded data removed]",
      "text/plain": [
       "<Figure size 432x288 with 1 Axes>"
      ]
     },
     "metadata": {
      "needs_background": "light"
     },
     "output_type": "display_data"
    }
   ],
   "source": [
    "run_perceptron('data_2.txt')"
   ]
  },
  {
   "cell_type": "markdown",
   "metadata": {},
   "source": [
    "### 3. For you to do"
   ]
  },
  {
   "cell_type": "markdown",
   "metadata": {},
   "source": [
    "<font color=\"magenta\">Design a data set</font> with the following specifications:\n",
    "* there are just two data points, with labels -1 and 1\n",
    "* the two points are distinct, with coordinate values in the range [-1,1]\n",
    "* the Perceptron algorithm requires more than 1000 iterations to converge"
   ]
  },
  {
   "cell_type": "code",
   "execution_count": 7,
   "metadata": {},
   "outputs": [],
   "source": [
    "from numpy import c_\n",
    "c_?"
   ]
  },
  {
   "cell_type": "code",
   "execution_count": null,
   "metadata": {},
   "outputs": [],
   "source": []
  }
 ],
 "metadata": {
  "kernelspec": {
   "display_name": "Python 3",
   "language": "python",
   "name": "python3"
  },
  "language_info": {
   "codemirror_mode": {
    "name": "ipython",
    "version": 3
   },
   "file_extension": ".py",
   "mimetype": "text/x-python",
   "name": "python",
   "nbconvert_exporter": "python",
   "pygments_lexer": "ipython3",
   "version": "3.6.13"
  },
  "toc": {
   "colors": {
    "hover_highlight": "#DAA520",
    "navigate_num": "#000000",
    "navigate_text": "#333333",
    "running_highlight": "#FF0000",
    "selected_highlight": "#FFD700",
    "sidebar_border": "#EEEEEE",
    "wrapper_background": "#FFFFFF"
   },
   "moveMenuLeft": true,
   "nav_menu": {
    "height": "12px",
    "width": "252px"
   },
   "navigate_menu": true,
   "number_sections": false,
   "sideBar": true,
   "threshold": 4,
   "toc_cell": false,
   "toc_section_display": "block",
   "toc_window_display": false,
   "widenNotebook": false
  }
 },
 "nbformat": 4,
 "nbformat_minor": 1
}
