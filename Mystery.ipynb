{
 "cells": [
  {
   "cell_type": "code",
   "execution_count": 3,
   "id": "06efc661",
   "metadata": {},
   "outputs": [],
   "source": [
    "# Standard includes\n",
    "%matplotlib inline\n",
    "import pandas as pd\n",
    "import numpy as np\n",
    "import matplotlib\n",
    "import matplotlib.pyplot as plt\n",
    "# Routines for linear regression\n",
    "from sklearn import linear_model\n",
    "from sklearn.metrics import mean_squared_error"
   ]
  },
  {
   "cell_type": "code",
   "execution_count": 12,
   "id": "7a1aebce",
   "metadata": {},
   "outputs": [
    {
     "data": {
      "text/plain": [
       "array([[-1.14558, -1.29249,  0.84911, ...,  1.5532 , -1.42135,  1.19238],\n",
       "       [ 1.38724, -1.00201, -0.3337 , ...,  0.81903,  0.39286, -3.44094],\n",
       "       [ 1.47233,  0.8488 , -0.33866, ...,  0.08911, -1.72476,  3.75006],\n",
       "       ...,\n",
       "       [-0.83673,  0.80514,  0.00807, ..., -1.64165,  2.04662,  1.84121],\n",
       "       [ 1.12062,  0.68561, -1.08   , ...,  1.1926 ,  0.33696,  3.53143],\n",
       "       [-0.28943, -0.22213, -0.52226, ...,  0.22531,  1.72576, -0.55118]])"
      ]
     },
     "execution_count": 12,
     "metadata": {},
     "output_type": "execute_result"
    }
   ],
   "source": [
    "data1 =pd.read_csv('mystery.dat', delimiter=',', header = None)\n",
    "#data = np.array(data)\n",
    "data = data1.values\n",
    "data"
   ]
  },
  {
   "cell_type": "code",
   "execution_count": 6,
   "id": "1fe409ce",
   "metadata": {},
   "outputs": [
    {
     "data": {
      "text/plain": [
       "array([[-1.14558, -1.29249,  0.84911, ...,  1.5532 , -1.42135,  1.19238],\n",
       "       [ 1.38724, -1.00201, -0.3337 , ...,  0.81903,  0.39286, -3.44094],\n",
       "       [ 1.47233,  0.8488 , -0.33866, ...,  0.08911, -1.72476,  3.75006],\n",
       "       ...,\n",
       "       [-0.83673,  0.80514,  0.00807, ..., -1.64165,  2.04662,  1.84121],\n",
       "       [ 1.12062,  0.68561, -1.08   , ...,  1.1926 ,  0.33696,  3.53143],\n",
       "       [-0.28943, -0.22213, -0.52226, ...,  0.22531,  1.72576, -0.55118]])"
      ]
     },
     "execution_count": 6,
     "metadata": {},
     "output_type": "execute_result"
    }
   ],
   "source": [
    "data1 = np.genfromtxt('mystery.dat', delimiter=',')\n",
    "data1"
   ]
  },
  {
   "cell_type": "code",
   "execution_count": 13,
   "id": "896b1265",
   "metadata": {},
   "outputs": [],
   "source": [
    "x = data[:,0:100]\n",
    "y = data[:,100]"
   ]
  },
  {
   "cell_type": "code",
   "execution_count": 14,
   "id": "dc800f4d",
   "metadata": {},
   "outputs": [],
   "source": [
    "def feature_subset_regression(x,y,flist):\n",
    "    if len(flist) < 1:\n",
    "        print(\"Need at least one feature\")\n",
    "        return\n",
    "    for f in flist:\n",
    "        if (f < 0) or (f > 100):\n",
    "            print(\"Feature index is out of bounds\")\n",
    "            return\n",
    "    regr = linear_model.LinearRegression()\n",
    "    regr.fit(x[:,flist], y)\n",
    "    return mean_squared_error(y, regr.predict(x[:,flist]))"
   ]
  },
  {
   "cell_type": "code",
   "execution_count": 15,
   "id": "8729fc25",
   "metadata": {},
   "outputs": [
    {
     "name": "stdout",
     "output_type": "stream",
     "text": [
      "6.666805964795618\n",
      "5.931005043656823\n",
      "6.711275934495153\n",
      "7.497074872393357\n"
     ]
    }
   ],
   "source": [
    "# [1,5,7,19,44] [2,3,13,17,29] [3,7,13,19,44] [5,23,24,51,61]\n",
    "feature_list=[[0,4,6,18,43],[1,2,12,16,28],[2,6,12,18,43],[4,22,23,50,60]] #We are subtracting 1 from every index\n",
    "\n",
    "for features in feature_list:\n",
    "    print(feature_subset_regression(x,y,features))"
   ]
  },
  {
   "cell_type": "code",
   "execution_count": 16,
   "id": "7242ba98",
   "metadata": {},
   "outputs": [],
   "source": [
    "def one_feature_regression(x,y,f):\n",
    "    if (f < 0) or (f > 99):\n",
    "        print(\"Feature index is out of bounds\")\n",
    "        return 0\n",
    "    regr = linear_model.LinearRegression()\n",
    "    x1 = x[:,[f]]\n",
    "    regr.fit(x1, y)\n",
    "    # Make predictions using the model\n",
    "    y_pred = regr.predict(x1)\n",
    "    #print(\"Mean squared error: \", mean_squared_error(y, y_pred))\n",
    "    return mean_squared_error(y, y_pred)"
   ]
  },
  {
   "cell_type": "code",
   "execution_count": 17,
   "id": "2e824819",
   "metadata": {},
   "outputs": [],
   "source": [
    "def top_ten_singled_features(x,y):\n",
    "    ls=[]\n",
    "    indices=[]\n",
    "    for i in range(0,100):\n",
    "        ls.append(one_feature_regression(x,y,i))\n",
    "    sorted_ls=sorted(ls)\n",
    "    #[i+1 for i,x in enumerate(ls) if x=min(ls)]\n",
    "    for x in sorted_ls:\n",
    "        indices.append(ls.index(x))\n",
    "    return indices[0:10]"
   ]
  },
  {
   "cell_type": "code",
   "execution_count": 18,
   "id": "b63d47af",
   "metadata": {},
   "outputs": [
    {
     "name": "stdout",
     "output_type": "stream",
     "text": [
      "We get MSE for [16, 10, 18, 22, 12, 25, 4, 80, 6, 1] features as  2.135608858468031\n"
     ]
    }
   ],
   "source": [
    "indices= top_ten_singled_features(x,y)\n",
    "print(\"We get MSE for\",indices,\"features as \",feature_subset_regression(x,y,indices)) # Add 1 to relate with answers given"
   ]
  },
  {
   "cell_type": "code",
   "execution_count": null,
   "id": "86d3cb6b",
   "metadata": {},
   "outputs": [],
   "source": []
  }
 ],
 "metadata": {
  "kernelspec": {
   "display_name": "Python 3",
   "language": "python",
   "name": "python3"
  },
  "language_info": {
   "codemirror_mode": {
    "name": "ipython",
    "version": 3
   },
   "file_extension": ".py",
   "mimetype": "text/x-python",
   "name": "python",
   "nbconvert_exporter": "python",
   "pygments_lexer": "ipython3",
   "version": "3.6.13"
  }
 },
 "nbformat": 4,
 "nbformat_minor": 5
}
